{
  "nbformat": 4,
  "nbformat_minor": 0,
  "metadata": {
    "colab": {
      "name": "Overview of ML Pipelines.ipynb",
      "provenance": []
    },
    "kernelspec": {
      "name": "python3",
      "display_name": "Python 3"
    },
    "language_info": {
      "name": "python"
    }
  },
  "cells": [
    {
      "cell_type": "code",
      "metadata": {
        "colab": {
          "base_uri": "https://localhost:8080/"
        },
        "id": "YHUYcfk916rH",
        "outputId": "61511503-60bf-4810-cff0-e2519cbd991d"
      },
      "source": [
        "from google.colab import drive\n",
        "drive.mount('/content/drive')"
      ],
      "execution_count": 1,
      "outputs": [
        {
          "output_type": "stream",
          "text": [
            "Mounted at /content/drive\n"
          ],
          "name": "stdout"
        }
      ]
    },
    {
      "cell_type": "markdown",
      "metadata": {
        "id": "NAhcifug52ye"
      },
      "source": [
        "## Step 1 - Scaling Data"
      ]
    },
    {
      "cell_type": "code",
      "metadata": {
        "id": "QIMaCv7ewRuA"
      },
      "source": [
        ""
      ],
      "execution_count": null,
      "outputs": []
    },
    {
      "cell_type": "markdown",
      "metadata": {
        "id": "2bITOojPAm3J"
      },
      "source": [
        "## Step 2: Fit a Ridge Regressor"
      ]
    },
    {
      "cell_type": "code",
      "metadata": {
        "id": "pFGv3sR3wSG9"
      },
      "source": [
        ""
      ],
      "execution_count": null,
      "outputs": []
    },
    {
      "cell_type": "markdown",
      "metadata": {
        "id": "gA3MEdE-CodL"
      },
      "source": [
        "## Step 3: Predict "
      ]
    },
    {
      "cell_type": "code",
      "metadata": {
        "id": "PBRHoeanwScg"
      },
      "source": [
        ""
      ],
      "execution_count": null,
      "outputs": []
    },
    {
      "cell_type": "markdown",
      "metadata": {
        "id": "JGSW-fsrHf92"
      },
      "source": [
        "## Step 4: Pipeline"
      ]
    },
    {
      "cell_type": "code",
      "metadata": {
        "id": "iftjjPlfwS21"
      },
      "source": [
        ""
      ],
      "execution_count": null,
      "outputs": []
    },
    {
      "cell_type": "markdown",
      "metadata": {
        "id": "U9DyXACAKyI4"
      },
      "source": [
        "## Step 5: GridSearch CV"
      ]
    },
    {
      "cell_type": "code",
      "metadata": {
        "id": "GRdVb-07wTL8"
      },
      "source": [
        ""
      ],
      "execution_count": null,
      "outputs": []
    },
    {
      "cell_type": "markdown",
      "metadata": {
        "id": "Iw2mBICiPwu_"
      },
      "source": [
        "**END**"
      ]
    }
  ]
}